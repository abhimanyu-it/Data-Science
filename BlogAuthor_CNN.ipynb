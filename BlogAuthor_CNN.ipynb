{
 "cells": [
  {
   "cell_type": "code",
   "execution_count": 1,
   "id": "53624770",
   "metadata": {},
   "outputs": [],
   "source": [
    "import pandas as pd\n",
    "import numpy as np\n",
    "from tensorflow.keras.preprocessing.text import Tokenizer\n",
    "from tensorflow.keras.preprocessing.sequence import pad_sequences\n",
    "from sklearn.model_selection import train_test_split\n",
    "from sklearn.preprocessing import LabelEncoder\n",
    "\n",
    "# Load the CSV file\n",
    "df = pd.read_csv('p_data50000.csv')\n"
   ]
  },
  {
   "cell_type": "code",
   "execution_count": 2,
   "id": "4ee09fea",
   "metadata": {},
   "outputs": [
    {
     "data": {
      "text/html": [
       "<div>\n",
       "<style scoped>\n",
       "    .dataframe tbody tr th:only-of-type {\n",
       "        vertical-align: middle;\n",
       "    }\n",
       "\n",
       "    .dataframe tbody tr th {\n",
       "        vertical-align: top;\n",
       "    }\n",
       "\n",
       "    .dataframe thead th {\n",
       "        text-align: right;\n",
       "    }\n",
       "</style>\n",
       "<table border=\"1\" class=\"dataframe\">\n",
       "  <thead>\n",
       "    <tr style=\"text-align: right;\">\n",
       "      <th></th>\n",
       "      <th>id</th>\n",
       "      <th>gender</th>\n",
       "      <th>age</th>\n",
       "      <th>topic</th>\n",
       "      <th>sign</th>\n",
       "      <th>date</th>\n",
       "      <th>text</th>\n",
       "      <th>Word_count</th>\n",
       "    </tr>\n",
       "  </thead>\n",
       "  <tbody>\n",
       "    <tr>\n",
       "      <th>49833</th>\n",
       "      <td>1673216</td>\n",
       "      <td>male</td>\n",
       "      <td>17</td>\n",
       "      <td>Student</td>\n",
       "      <td>Taurus</td>\n",
       "      <td>03,May,2004</td>\n",
       "      <td>one morn got bed check phone someon knock door...</td>\n",
       "      <td>241</td>\n",
       "    </tr>\n",
       "    <tr>\n",
       "      <th>49834</th>\n",
       "      <td>1673216</td>\n",
       "      <td>male</td>\n",
       "      <td>17</td>\n",
       "      <td>Student</td>\n",
       "      <td>Taurus</td>\n",
       "      <td>13,June,2004</td>\n",
       "      <td>edit proof http img35 photobucket com album v1...</td>\n",
       "      <td>265</td>\n",
       "    </tr>\n",
       "    <tr>\n",
       "      <th>49835</th>\n",
       "      <td>1673216</td>\n",
       "      <td>male</td>\n",
       "      <td>17</td>\n",
       "      <td>Student</td>\n",
       "      <td>Taurus</td>\n",
       "      <td>30,July,2004</td>\n",
       "      <td>human heart heart collect particl molecul atom...</td>\n",
       "      <td>238</td>\n",
       "    </tr>\n",
       "    <tr>\n",
       "      <th>49836</th>\n",
       "      <td>4260903</td>\n",
       "      <td>female</td>\n",
       "      <td>34</td>\n",
       "      <td>indUnk</td>\n",
       "      <td>Virgo</td>\n",
       "      <td>23,August,2004</td>\n",
       "      <td>ran around clean morn grandma mom dad come 11a...</td>\n",
       "      <td>214</td>\n",
       "    </tr>\n",
       "    <tr>\n",
       "      <th>49837</th>\n",
       "      <td>4260903</td>\n",
       "      <td>female</td>\n",
       "      <td>34</td>\n",
       "      <td>indUnk</td>\n",
       "      <td>Virgo</td>\n",
       "      <td>18,August,2004</td>\n",
       "      <td>want consid rawfoodist ye like make one word l...</td>\n",
       "      <td>282</td>\n",
       "    </tr>\n",
       "  </tbody>\n",
       "</table>\n",
       "</div>"
      ],
      "text/plain": [
       "            id  gender  age    topic    sign            date  \\\n",
       "49833  1673216    male   17  Student  Taurus     03,May,2004   \n",
       "49834  1673216    male   17  Student  Taurus    13,June,2004   \n",
       "49835  1673216    male   17  Student  Taurus    30,July,2004   \n",
       "49836  4260903  female   34   indUnk   Virgo  23,August,2004   \n",
       "49837  4260903  female   34   indUnk   Virgo  18,August,2004   \n",
       "\n",
       "                                                    text  Word_count  \n",
       "49833  one morn got bed check phone someon knock door...         241  \n",
       "49834  edit proof http img35 photobucket com album v1...         265  \n",
       "49835  human heart heart collect particl molecul atom...         238  \n",
       "49836  ran around clean morn grandma mom dad come 11a...         214  \n",
       "49837  want consid rawfoodist ye like make one word l...         282  "
      ]
     },
     "execution_count": 2,
     "metadata": {},
     "output_type": "execute_result"
    }
   ],
   "source": [
    "df.tail()"
   ]
  },
  {
   "cell_type": "code",
   "execution_count": 3,
   "id": "3c7a9004",
   "metadata": {},
   "outputs": [
    {
     "name": "stdout",
     "output_type": "stream",
     "text": [
      "female    26041\n",
      "male      23797\n",
      "Name: gender, dtype: int64\n"
     ]
    }
   ],
   "source": [
    "# Assume the CSV has columns 'text' and 'label'\n",
    "texts = df['text'].tolist()\n",
    "labels = df['gender'].tolist()\n",
    "\n",
    "# Encode labels\n",
    "label_encoder = LabelEncoder()\n",
    "labels = label_encoder.fit_transform(labels)\n",
    "\n",
    "# Hyperparameters\n",
    "vocab_size = 20000\n",
    "max_length = 300  # Adjust based on your data\n",
    "embedding_dim = 100  # Size of GloVe vectors\n",
    "\n",
    "# Tokenization and padding\n",
    "tokenizer = Tokenizer(num_words=vocab_size)\n",
    "tokenizer.fit_on_texts(texts)\n",
    "sequences = tokenizer.texts_to_sequences(texts)\n",
    "word_index = tokenizer.word_index\n",
    "X = pad_sequences(sequences, maxlen=max_length)\n",
    "y = np.array(labels)\n",
    "\n",
    "print(df['gender'].value_counts())\n",
    "\n",
    "# Train-test split\n",
    "X_train, X_test, y_train, y_test = train_test_split(X, y, test_size=0.2, random_state=42)\n"
   ]
  },
  {
   "cell_type": "code",
   "execution_count": 5,
   "id": "7db57dc9",
   "metadata": {},
   "outputs": [],
   "source": [
    "# Load GloVe embeddings\n",
    "embedding_index = {}\n",
    "glove_path = 'glove/glove.twitter.27B.100d.txt'  # Update with the path to your GloVe file\n",
    "\n",
    "with open(glove_path, 'r', encoding='utf-8') as f:\n",
    "    for line in f:\n",
    "        values = line.split()\n",
    "        word = values[0]\n",
    "        coefs = np.asarray(values[1:], dtype='float32')\n",
    "        embedding_index[word] = coefs\n",
    "\n",
    "# Create an embedding matrix\n",
    "embedding_matrix = np.zeros((vocab_size, embedding_dim))\n",
    "for word, i in word_index.items():\n",
    "    if i < vocab_size:\n",
    "        embedding_vector = embedding_index.get(word)\n",
    "        if embedding_vector is not None:\n",
    "            embedding_matrix[i] = embedding_vector\n",
    "       \n"
   ]
  },
  {
   "cell_type": "code",
   "execution_count": 6,
   "id": "8873fbd0",
   "metadata": {},
   "outputs": [
    {
     "name": "stdout",
     "output_type": "stream",
     "text": [
      "Class Weights:  {0: 0.9572629051620648, 1: 1.046731425571016}\n"
     ]
    }
   ],
   "source": [
    "# Compute class weights\n",
    "from sklearn.utils.class_weight import compute_class_weight\n",
    "class_weights = compute_class_weight(class_weight='balanced', classes=np.unique(y_train), y=y_train)\n",
    "class_weights = dict(enumerate(class_weights))\n",
    "print(\"Class Weights: \", class_weights)"
   ]
  },
  {
   "cell_type": "code",
   "execution_count": 9,
   "id": "55822bf0",
   "metadata": {},
   "outputs": [
    {
     "name": "stdout",
     "output_type": "stream",
     "text": [
      "Epoch 1/10\n",
      "997/997 [==============================] - 51s 51ms/step - loss: 0.6545 - accuracy: 0.6242 - val_loss: 0.6385 - val_accuracy: 0.6817\n",
      "Epoch 2/10\n",
      "  2/997 [..............................] - ETA: 52s - loss: 0.5825 - accuracy: 0.7812 "
     ]
    },
    {
     "name": "stderr",
     "output_type": "stream",
     "text": [
      "/Users/abhaydevraj/anaconda3/lib/python3.11/site-packages/keras/src/engine/training.py:3103: UserWarning: You are saving your model as an HDF5 file via `model.save()`. This file format is considered legacy. We recommend using instead the native Keras format, e.g. `model.save('my_model.keras')`.\n",
      "  saving_api.save_model(\n"
     ]
    },
    {
     "name": "stdout",
     "output_type": "stream",
     "text": [
      "997/997 [==============================] - 53s 53ms/step - loss: 0.5883 - accuracy: 0.7023 - val_loss: 0.5981 - val_accuracy: 0.6776\n",
      "Epoch 3/10\n",
      "997/997 [==============================] - 53s 53ms/step - loss: 0.5183 - accuracy: 0.7527 - val_loss: 0.5756 - val_accuracy: 0.7062\n",
      "Epoch 4/10\n",
      "997/997 [==============================] - 55s 55ms/step - loss: 0.4492 - accuracy: 0.7976 - val_loss: 0.5885 - val_accuracy: 0.6917\n",
      "Epoch 5/10\n",
      "997/997 [==============================] - 53s 54ms/step - loss: 0.3842 - accuracy: 0.8368 - val_loss: 0.6204 - val_accuracy: 0.6854\n",
      "Epoch 6/10\n",
      "997/997 [==============================] - 54s 54ms/step - loss: 0.3179 - accuracy: 0.8735 - val_loss: 0.6595 - val_accuracy: 0.6949\n",
      "Epoch 7/10\n",
      "997/997 [==============================] - 55s 55ms/step - loss: 0.2561 - accuracy: 0.9007 - val_loss: 0.7184 - val_accuracy: 0.6884\n",
      "Epoch 8/10\n",
      "997/997 [==============================] - 57s 57ms/step - loss: 0.2086 - accuracy: 0.9215 - val_loss: 0.8180 - val_accuracy: 0.6907\n"
     ]
    }
   ],
   "source": [
    "from sklearn.metrics import classification_report, confusion_matrix, f1_score, precision_score, recall_score\n",
    "from tensorflow.keras.models import Sequential\n",
    "from tensorflow.keras.layers import Embedding, Conv1D, GlobalMaxPooling1D, Dense, Dropout\n",
    "from tensorflow.keras.callbacks import EarlyStopping, ModelCheckpoint\n",
    "import matplotlib.pyplot as plt\n",
    "\n",
    "# Build the  CNN model\n",
    "model = Sequential([\n",
    "    Embedding(input_dim=vocab_size, \n",
    "              output_dim=embedding_dim, \n",
    "              input_length=max_length, \n",
    "              weights=[embedding_matrix], \n",
    "              trainable=True),  # Allow fine-tuning of embeddings\n",
    "    Conv1D(128, 5, activation='relu'),\n",
    "    Dropout(0.5),  # Add dropout to prevent overfitting\n",
    "    Conv1D(128, 5, activation='relu'),\n",
    "    GlobalMaxPooling1D(),\n",
    "    Dense(64, activation='relu'),\n",
    "    Dropout(0.5),\n",
    "    Dense(1, activation='sigmoid')  \n",
    "])\n",
    "\n",
    "# Compile the model\n",
    "model.compile(optimizer='adam', \n",
    "              loss='binary_crossentropy',  # Use 'sparse_categorical_crossentropy' for multi-class classification\n",
    "              metrics=['accuracy'])\n",
    "\n",
    "# Define callbacks\n",
    "callbacks = [\n",
    "    EarlyStopping(monitor='val_loss', patience=5, restore_best_weights=True),\n",
    "    ModelCheckpoint(filepath='best_model.h5', monitor='val_loss', save_best_only=True)\n",
    "]\n",
    "\n",
    "# Train the model with class weights\n",
    "history = model.fit(X_train, y_train, epochs=10, batch_size=32, validation_split=0.2, callbacks=callbacks, class_weight=class_weights)\n"
   ]
  },
  {
   "cell_type": "code",
   "execution_count": 11,
   "id": "e1c705d4",
   "metadata": {},
   "outputs": [
    {
     "name": "stdout",
     "output_type": "stream",
     "text": [
      "312/312 [==============================] - 4s 12ms/step - loss: 0.5776 - accuracy: 0.6930\n",
      "Test Accuracy: 0.6930176615715027\n",
      "312/312 [==============================] - 4s 12ms/step\n",
      "F1 Score: 0.6907044550053287\n",
      "Precision: 0.7065327264026035\n",
      "Recall: 0.6930176565008026\n",
      "Confusion Matrix:\n",
      "[[3123 2093]\n",
      " [ 967 3785]]\n",
      "Classification Report:\n",
      "              precision    recall  f1-score   support\n",
      "\n",
      "      female       0.76      0.60      0.67      5216\n",
      "        male       0.64      0.80      0.71      4752\n",
      "\n",
      "    accuracy                           0.69      9968\n",
      "   macro avg       0.70      0.70      0.69      9968\n",
      "weighted avg       0.71      0.69      0.69      9968\n",
      "\n"
     ]
    },
    {
     "data": {
      "image/png": "[encoded data removed]",
      "text/plain": [
       "<Figure size 1200x600 with 1 Axes>"
      ]
     },
     "metadata": {},
     "output_type": "display_data"
    }
   ],
   "source": [
    "#  Evaluate the model\n",
    "loss, accuracy = model.evaluate(X_test, y_test)\n",
    "print(\"Test Accuracy:\", accuracy)\n",
    "\n",
    "# Predict on the test data\n",
    "y_pred = model.predict(X_test)\n",
    "y_pred_classes = (y_pred > 0.5).astype(int).reshape(-1)  # Adjust for binary classification\n",
    "\n",
    "# Compute metrics\n",
    "f1 = f1_score(y_test, y_pred_classes, average='weighted')\n",
    "precision = precision_score(y_test, y_pred_classes, average='weighted')\n",
    "recall = recall_score(y_test, y_pred_classes, average='weighted')\n",
    "conf_matrix = confusion_matrix(y_test, y_pred_classes)\n",
    "class_report = classification_report(y_test, y_pred_classes, target_names=label_encoder.classes_)\n",
    "\n",
    "print(f\"F1 Score: {f1}\")\n",
    "print(f\"Precision: {precision}\")\n",
    "print(f\"Recall: {recall}\")\n",
    "print(f\"Confusion Matrix:\\n{conf_matrix}\")\n",
    "print(f\"Classification Report:\\n{class_report}\")\n",
    "\n",
    "# Plot training and validation accuracy and loss\n",
    "train_accuracy = history.history['accuracy']\n",
    "val_accuracy = history.history['val_accuracy']\n",
    "train_loss = history.history['loss']\n",
    "val_loss = history.history['val_loss']\n",
    "\n",
    "epochs = range(1, len(train_accuracy) + 1)\n",
    "\n",
    "plt.figure(figsize=(12, 6))\n",
    "\n",
    "plt.subplot(1, 2, 1)\n",
    "plt.plot(epochs, train_accuracy, 'bo', label='Training accuracy')\n",
    "plt.plot(epochs, val_accuracy, 'r', label='Validation accuracy')\n",
    "plt.title('Training and validation accuracy')\n",
    "plt.xlabel('Epochs')\n",
    "plt.ylabel('Accuracy')\n",
    "plt.legend()\n",
    "\n",
    "\n",
    "plt.tight_layout()\n",
    "plt.show()"
   ]
  },
  {
   "cell_type": "code",
   "execution_count": null,
   "id": "0d5fee5b",
   "metadata": {},
   "outputs": [],
   "source": []
  }
 ],
 "metadata": {
  "kernelspec": {
   "display_name": "Python 3 (ipykernel)",
   "language": "python",
   "name": "python3"
  },
  "language_info": {
   "codemirror_mode": {
    "name": "ipython",
    "version": 3
   },
   "file_extension": ".py",
   "mimetype": "text/x-python",
   "name": "python",
   "nbconvert_exporter": "python",
   "pygments_lexer": "ipython3",
   "version": "3.11.3"
  }
 },
 "nbformat": 4,
 "nbformat_minor": 5
}
